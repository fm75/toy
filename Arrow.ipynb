{
 "cells": [
  {
   "cell_type": "markdown",
   "metadata": {},
   "source": [
    "# Arrow Trajectory"
   ]
  },
  {
   "cell_type": "markdown",
   "metadata": {},
   "source": [
    "## Neglecting wind resistance, wind, altitude and curvature of the earth\n",
    "\n",
    "#### Definitions\n",
    "* $x(t): $ distance from origin on horizontal axis\n",
    "* $y(t): $ distance from origin on vertical axis\n",
    "* $v: $ speed of arrow in the direction of its flight\n",
    "* $\\theta: $ launch angle relative to horizontal\n",
    "* $t: $ time of flight\n",
    "* $x_t: $ target distance, horizontal component\n",
    "* $y_t: $ target distance, vertical component"
   ]
  },
  {
   "cell_type": "markdown",
   "metadata": {},
   "source": [
    "#### Equations of motion\n",
    "\n",
    "1. $x(t) = vt \\cos \\theta $\n",
    "2. $y(t) = vt \\sin \\theta - \\frac{1}{2} \\ gt^2$, Solving 1 for $t$:\n",
    "3. $t = \\frac {x_t}{v \\cos \\theta}$, By substitution of 3 into 2\n",
    "4. $y_t = x_t \\tan \\theta - \\frac{gx_t^2}{2v^2} (\\frac {1}{\\cos^2 \\theta})$\n",
    "\n",
    "#### Trigonmetric Identities.\n",
    "* $\\sin^2\\theta + \\cos^2\\theta = 1$, dividing both sides by $\\cos^2\\theta$ yields:\n",
    "* $\\tan^2\\theta + 1 = \\frac{1}{\\cos^2\\theta}$"
   ]
  },
  {
   "cell_type": "markdown",
   "metadata": {},
   "source": [
    "#### Using the identity, and the substitution:\n",
    "* $ h = -\\frac{gx_t^2}{2v^2}$, we rewrite out solution 4, in quadratic form:\n",
    "* $ 0 = h \\tan^2 \\theta + x_t \\tan\\theta +h - y_t$"
   ]
  },
  {
   "cell_type": "markdown",
   "metadata": {},
   "source": [
    "#### Solving the quadratic formula for $\\tan\\theta$:\n",
    "* $ \\tan\\theta = \\frac{-x_t \\pm \\sqrt {x_t^2 - 4h^2 + 4y_t}}{2h}$"
   ]
  },
  {
   "cell_type": "markdown",
   "metadata": {},
   "source": [
    "## So our solution for a successful shot is\n",
    "* $ \\theta = \\arctan \\frac{-x_t \\pm \\sqrt {x_t^2 - 4h^2 + 4hy_t}}{2h}$, and from above\n",
    "* $ t = \\frac {x_t}{v \\cos \\theta}$\n",
    "\n",
    "Since we can't hit the target before releasing the arrow, only a positive solution for \n",
    "$t$ is of interest.\n",
    "In general, there will be zero solutions if the target is out of range and two otherwise (both the same at maximum range). Take the shot with the smaller time of flight, to reduce error and the time for the target to move."
   ]
  },
  {
   "cell_type": "markdown",
   "metadata": {},
   "source": [
    "## Range finder\n",
    "If you are using a laser range finder, then you will know $d:\\ direct\\ distance\\ to\\ target$. You will need\n",
    "to measure the angle, $\\phi$, to be able to determine $x_t\\ and\\ y_t$.\n",
    "* $x_t = d \\cos \\phi$\n",
    "* $y_t = d \\sin \\phi$\n",
    "* $ h = -\\frac{g(d \\cos \\phi)^2}{2v^2}$\n",
    "\n",
    "So with these substitutions our launch angle solution still applies. The aim of course will\n",
    "be $\\theta - \\phi$ above direct line of sight to the target."
   ]
  },
  {
   "cell_type": "code",
   "execution_count": 1,
   "metadata": {
    "collapsed": true
   },
   "outputs": [],
   "source": [
    "from math import pi, sin, cos, atan, sqrt, degrees, radians\n",
    "def solutions (velocity, distance, phi):\n",
    "    '''\n",
    "    Solutions to shooting projectile at a target.\n",
    "    velocity in feet per second.\n",
    "    distance in feet.\n",
    "    phi angle to target in degrees, >0 is up <0 is down\n",
    "    '''\n",
    "    g = 32\n",
    "    v = velocity\n",
    "    phi = radians (phi)\n",
    "    xt   = distance * cos (phi)\n",
    "    yt   = distance * sin (phi)\n",
    "    xtsq = xt * xt\n",
    "    h    = - g * xtsq / (2 * v * v)\n",
    "    twoh = 2 * h\n",
    "\n",
    "    disc   = sqrt (xtsq - 4 * h * h + 4 * h * yt)\n",
    "    theta1 = atan ((-xt + disc) / (twoh))\n",
    "    theta2 = atan ((-xt - disc) / (twoh))\n",
    "    time1  = xt / v / cos(theta1)\n",
    "    time2  = xt / v / cos(theta2)\n",
    "    return ((degrees(theta1), time1), (degrees(theta2), time2))"
   ]
  },
  {
   "cell_type": "code",
   "execution_count": 2,
   "metadata": {
    "collapsed": false
   },
   "outputs": [
    {
     "name": "stdout",
     "output_type": "stream",
     "text": [
      "((0.5051129326607129, 0.18182524748395765), (89.49488706733935, 20.624198519685194))\n"
     ]
    }
   ],
   "source": [
    "print (solutions (330, 60, 0)) # 3403.125 feet is max range on level for 330 fps"
   ]
  },
  {
   "cell_type": "code",
   "execution_count": 3,
   "metadata": {
    "collapsed": false
   },
   "outputs": [],
   "source": [
    "def target_grid (velocity, phi, minyds, maxyds, step):\n",
    "    print ('Degrees  time')\n",
    "    for x in range (minyds*3, maxyds*3, step*3):\n",
    "        fmt = '  {:+.2f} {:+.2f}'\n",
    "        ((low_angle, low_time), (hi_angle, hi_time)) = solutions (velocity, x, phi)\n",
    "        print (fmt.format (low_angle, low_time))"
   ]
  },
  {
   "cell_type": "code",
   "execution_count": 4,
   "metadata": {
    "collapsed": false
   },
   "outputs": [
    {
     "name": "stdout",
     "output_type": "stream",
     "text": [
      "Degrees  time\n",
      "  +0.25 +0.09\n",
      "  +0.51 +0.18\n",
      "  +0.76 +0.27\n",
      "  +1.01 +0.36\n",
      "  +1.26 +0.45\n",
      "  +1.52 +0.55\n",
      "  +1.77 +0.64\n",
      "  +2.02 +0.73\n",
      "  +2.28 +0.82\n",
      "  +2.53 +0.91\n"
     ]
    }
   ],
   "source": [
    "target_grid (330, 0, 10, 101, 10)"
   ]
  },
  {
   "cell_type": "code",
   "execution_count": 5,
   "metadata": {
    "collapsed": false
   },
   "outputs": [
    {
     "name": "stdout",
     "output_type": "stream",
     "text": [
      "Degrees  time\n",
      "  +10.25 +0.09\n",
      "  +10.50 +0.18\n",
      "  +10.75 +0.27\n",
      "  +11.00 +0.36\n",
      "  +11.25 +0.46\n",
      "  +11.50 +0.55\n",
      "  +11.75 +0.64\n",
      "  +12.00 +0.73\n",
      "  +12.26 +0.82\n",
      "  +12.51 +0.92\n"
     ]
    }
   ],
   "source": [
    "target_grid (330, 10, 10, 101, 10)"
   ]
  },
  {
   "cell_type": "code",
   "execution_count": 6,
   "metadata": {
    "collapsed": false
   },
   "outputs": [
    {
     "name": "stdout",
     "output_type": "stream",
     "text": [
      "Degrees  time\n",
      "  -9.75 +0.09\n",
      "  -9.50 +0.18\n",
      "  -9.26 +0.27\n",
      "  -9.01 +0.36\n",
      "  -8.76 +0.45\n",
      "  -8.51 +0.54\n",
      "  -8.27 +0.63\n",
      "  -8.02 +0.72\n",
      "  -7.77 +0.81\n",
      "  -7.53 +0.90\n"
     ]
    }
   ],
   "source": [
    "target_grid (330, -10, 10, 101, 10)"
   ]
  },
  {
   "cell_type": "code",
   "execution_count": 7,
   "metadata": {
    "collapsed": false
   },
   "outputs": [
    {
     "name": "stdout",
     "output_type": "stream",
     "text": [
      "Degrees  time\n",
      "  +20.24 +0.09\n",
      "  +20.48 +0.18\n",
      "  +20.72 +0.27\n",
      "  +20.96 +0.37\n",
      "  +21.20 +0.46\n",
      "  +21.44 +0.55\n",
      "  +21.68 +0.64\n",
      "  +21.92 +0.74\n",
      "  +22.17 +0.83\n",
      "  +22.41 +0.92\n"
     ]
    }
   ],
   "source": [
    "target_grid (330, 20, 10, 101, 10)"
   ]
  },
  {
   "cell_type": "code",
   "execution_count": 8,
   "metadata": {
    "collapsed": false
   },
   "outputs": [
    {
     "name": "stdout",
     "output_type": "stream",
     "text": [
      "Degrees  time\n",
      "  +30.22 +0.09\n",
      "  +30.44 +0.18\n",
      "  +30.66 +0.27\n",
      "  +30.88 +0.37\n",
      "  +31.11 +0.46\n",
      "  +31.33 +0.55\n",
      "  +31.56 +0.65\n",
      "  +31.78 +0.74\n",
      "  +32.01 +0.84\n",
      "  +32.24 +0.93\n"
     ]
    }
   ],
   "source": [
    "target_grid (330, 30, 10, 101, 10)"
   ]
  },
  {
   "cell_type": "code",
   "execution_count": 9,
   "metadata": {
    "collapsed": false
   },
   "outputs": [
    {
     "name": "stdout",
     "output_type": "stream",
     "text": [
      "Degrees  time\n",
      "  +40.19 +0.09\n",
      "  +40.39 +0.18\n",
      "  +40.59 +0.28\n",
      "  +40.78 +0.37\n",
      "  +40.98 +0.46\n",
      "  +41.18 +0.56\n",
      "  +41.38 +0.65\n",
      "  +41.59 +0.74\n",
      "  +41.79 +0.84\n",
      "  +41.99 +0.94\n"
     ]
    }
   ],
   "source": [
    "target_grid (330, 40, 10, 101, 10)"
   ]
  },
  {
   "cell_type": "code",
   "execution_count": 10,
   "metadata": {
    "collapsed": false
   },
   "outputs": [
    {
     "name": "stdout",
     "output_type": "stream",
     "text": [
      "Degrees  time\n",
      "  +45.18 +0.09\n",
      "  +45.36 +0.18\n",
      "  +45.54 +0.28\n",
      "  +45.72 +0.37\n",
      "  +45.91 +0.46\n",
      "  +46.09 +0.56\n",
      "  +46.28 +0.65\n",
      "  +46.47 +0.75\n",
      "  +46.66 +0.84\n",
      "  +46.85 +0.94\n"
     ]
    }
   ],
   "source": [
    "target_grid (330, 45, 10, 101, 10)"
   ]
  },
  {
   "cell_type": "code",
   "execution_count": 11,
   "metadata": {
    "collapsed": false
   },
   "outputs": [
    {
     "name": "stdout",
     "output_type": "stream",
     "text": [
      "Degrees  time\n",
      "  -44.82 +0.09\n",
      "  -44.65 +0.18\n",
      "  -44.47 +0.27\n",
      "  -44.29 +0.36\n",
      "  -44.12 +0.45\n",
      "  -43.95 +0.54\n",
      "  -43.78 +0.62\n",
      "  -43.60 +0.71\n",
      "  -43.43 +0.80\n",
      "  -43.27 +0.88\n"
     ]
    }
   ],
   "source": [
    "target_grid (330, -45, 10, 101, 10)"
   ]
  },
  {
   "cell_type": "code",
   "execution_count": null,
   "metadata": {
    "collapsed": true
   },
   "outputs": [],
   "source": []
  }
 ],
 "metadata": {
  "kernelspec": {
   "display_name": "Python 3",
   "language": "python",
   "name": "python3"
  },
  "language_info": {
   "codemirror_mode": {
    "name": "ipython",
    "version": 3
   },
   "file_extension": ".py",
   "mimetype": "text/x-python",
   "name": "python",
   "nbconvert_exporter": "python",
   "pygments_lexer": "ipython3",
   "version": "3.4.1"
  }
 },
 "nbformat": 4,
 "nbformat_minor": 0
}
